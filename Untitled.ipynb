{
 "cells": [
  {
   "cell_type": "code",
   "execution_count": 19,
   "metadata": {},
   "outputs": [],
   "source": [
    "import pandas as pd\n",
    "import numpy as np \n",
    "import re\n",
    "import requests\n",
    "import json\n",
    "\n",
    "from urllib.request import urlopen\n",
    "import seaborn as sns\n",
    "from word2number import w2n\n",
    "import matplotlib.pyplot as plt\n",
    "import string\n",
    "import time\n",
    "import yfinance as yf\n",
    "import os\n",
    "import csv\n",
    "from json import dumps\n",
    "import ast"
   ]
  },
  {
   "cell_type": "code",
   "execution_count": 218,
   "metadata": {},
   "outputs": [],
   "source": [
    "\n",
    "  from flatten_json import flatten\n",
    "# # Opening JSON file\n",
    "# df = pd.read_csv('/Users/petebaker/Desktop/nest_set.csv')\n",
    "# returns JSON object as \n",
    "# a dictionary\n",
    "df = pd.read_json('/Users/petebaker/Desktop/data.json')\n",
    "\n",
    "# Iterating through the json\n",
    "# list\n"
   ]
  },
  {
   "cell_type": "code",
   "execution_count": 206,
   "metadata": {},
   "outputs": [],
   "source": [
    "f = open('/Users/petebaker/Desktop/data.json')\n",
    "\n",
    "df =f.read()"
   ]
  },
  {
   "cell_type": "code",
   "execution_count": 212,
   "metadata": {},
   "outputs": [
    {
     "data": {
      "text/html": [
       "<div>\n",
       "<style scoped>\n",
       "    .dataframe tbody tr th:only-of-type {\n",
       "        vertical-align: middle;\n",
       "    }\n",
       "\n",
       "    .dataframe tbody tr th {\n",
       "        vertical-align: top;\n",
       "    }\n",
       "\n",
       "    .dataframe thead th {\n",
       "        text-align: right;\n",
       "    }\n",
       "</style>\n",
       "<table border=\"1\" class=\"dataframe\">\n",
       "  <thead>\n",
       "    <tr style=\"text-align: right;\">\n",
       "      <th></th>\n",
       "      <th>index</th>\n",
       "      <th>Company</th>\n",
       "      <th>Industry</th>\n",
       "      <th>Stock</th>\n",
       "      <th>Holder</th>\n",
       "      <th>Shares</th>\n",
       "      <th>Date Reported</th>\n",
       "      <th>% Out</th>\n",
       "      <th>Value</th>\n",
       "    </tr>\n",
       "  </thead>\n",
       "  <tbody>\n",
       "    <tr>\n",
       "      <th>0</th>\n",
       "      <td>0</td>\n",
       "      <td>Rio Tinto PLC</td>\n",
       "      <td>Other Industrial Metals &amp; Mining</td>\n",
       "      <td>BUE:RIO</td>\n",
       "      <td>{'0': 'Fisher Asset Management, LLC', '1': 'St...</td>\n",
       "      <td>{'0': 12165772, '1': 12132020, '2': 10511419, ...</td>\n",
       "      <td>{'0': 1609286400000, '1': 1609286400000, '2': ...</td>\n",
       "      <td>{'0': 0.0098, '1': 0.0097, '2': 0.0084, '3': 0...</td>\n",
       "      <td>{'0': 915109369, '1': 912570544, '2': 79066893...</td>\n",
       "    </tr>\n",
       "    <tr>\n",
       "      <th>1</th>\n",
       "      <td>1</td>\n",
       "      <td>Rio Tinto Ltd</td>\n",
       "      <td>Other Industrial Metals &amp; Mining</td>\n",
       "      <td>ASX:RIO</td>\n",
       "      <td>{'0': 'Fisher Asset Management, LLC', '1': 'St...</td>\n",
       "      <td>{'0': 12165772, '1': 12132020, '2': 10511419, ...</td>\n",
       "      <td>{'0': 1609286400000, '1': 1609286400000, '2': ...</td>\n",
       "      <td>{'0': 0.0098, '1': 0.0097, '2': 0.0084, '3': 0...</td>\n",
       "      <td>{'0': 915109369, '1': 912570544, '2': 79066893...</td>\n",
       "    </tr>\n",
       "    <tr>\n",
       "      <th>2</th>\n",
       "      <td>20</td>\n",
       "      <td>Xstrata PLC</td>\n",
       "      <td>Other Industrial Metals &amp; Mining</td>\n",
       "      <td>XSWX:XTAN</td>\n",
       "      <td>None</td>\n",
       "      <td>None</td>\n",
       "      <td>None</td>\n",
       "      <td>None</td>\n",
       "      <td>None</td>\n",
       "    </tr>\n",
       "    <tr>\n",
       "      <th>3</th>\n",
       "      <td>23</td>\n",
       "      <td>Idemitsu Kosan Co Ltd</td>\n",
       "      <td>Oil &amp; Gas Refining &amp; Marketing</td>\n",
       "      <td>FRA:I7B</td>\n",
       "      <td>None</td>\n",
       "      <td>None</td>\n",
       "      <td>None</td>\n",
       "      <td>None</td>\n",
       "      <td>None</td>\n",
       "    </tr>\n",
       "    <tr>\n",
       "      <th>4</th>\n",
       "      <td>28</td>\n",
       "      <td>Wesfarmers Ltd</td>\n",
       "      <td>Home Improvement Retail</td>\n",
       "      <td>ASX:WES</td>\n",
       "      <td>{'0': 'Alps Advisors Inc.', '1': 'Invesco Ltd....</td>\n",
       "      <td>{'0': 25376955, '1': 21340971, '2': 13081672, ...</td>\n",
       "      <td>{'0': 1609286400000, '1': 1609286400000, '2': ...</td>\n",
       "      <td>{'0': 0.0614, '1': 0.0517, '2': 0.0317, '3': 0...</td>\n",
       "      <td>{'0': 350709518, '1': 294932219, '2': 18078870...</td>\n",
       "    </tr>\n",
       "    <tr>\n",
       "      <th>...</th>\n",
       "      <td>...</td>\n",
       "      <td>...</td>\n",
       "      <td>...</td>\n",
       "      <td>...</td>\n",
       "      <td>...</td>\n",
       "      <td>...</td>\n",
       "      <td>...</td>\n",
       "      <td>...</td>\n",
       "      <td>...</td>\n",
       "    </tr>\n",
       "    <tr>\n",
       "      <th>199</th>\n",
       "      <td>736</td>\n",
       "      <td>The Carlyle Group Inc</td>\n",
       "      <td>Asset Management</td>\n",
       "      <td>FRA:3VU</td>\n",
       "      <td>None</td>\n",
       "      <td>None</td>\n",
       "      <td>None</td>\n",
       "      <td>None</td>\n",
       "      <td>None</td>\n",
       "    </tr>\n",
       "    <tr>\n",
       "      <th>200</th>\n",
       "      <td>741</td>\n",
       "      <td>Advanced Metallurgical Group NV</td>\n",
       "      <td>Other Industrial Metals &amp; Mining</td>\n",
       "      <td>FRA:ADG</td>\n",
       "      <td>None</td>\n",
       "      <td>None</td>\n",
       "      <td>None</td>\n",
       "      <td>None</td>\n",
       "      <td>None</td>\n",
       "    </tr>\n",
       "    <tr>\n",
       "      <th>201</th>\n",
       "      <td>748</td>\n",
       "      <td>Tata Chemicals Ltd</td>\n",
       "      <td>Chemicals</td>\n",
       "      <td>BOM:500770</td>\n",
       "      <td>None</td>\n",
       "      <td>None</td>\n",
       "      <td>None</td>\n",
       "      <td>None</td>\n",
       "      <td>None</td>\n",
       "    </tr>\n",
       "    <tr>\n",
       "      <th>202</th>\n",
       "      <td>751</td>\n",
       "      <td>None</td>\n",
       "      <td>None</td>\n",
       "      <td>None</td>\n",
       "      <td>None</td>\n",
       "      <td>None</td>\n",
       "      <td>None</td>\n",
       "      <td>None</td>\n",
       "      <td>None</td>\n",
       "    </tr>\n",
       "    <tr>\n",
       "      <th>203</th>\n",
       "      <td>16383</td>\n",
       "      <td>Company</td>\n",
       "      <td>Industry</td>\n",
       "      <td>Stock</td>\n",
       "      <td>Holder</td>\n",
       "      <td>Shares</td>\n",
       "      <td>Date Reported</td>\n",
       "      <td>% Out</td>\n",
       "      <td>Value</td>\n",
       "    </tr>\n",
       "  </tbody>\n",
       "</table>\n",
       "<p>204 rows × 9 columns</p>\n",
       "</div>"
      ],
      "text/plain": [
       "     index                          Company                          Industry  \\\n",
       "0        0                    Rio Tinto PLC  Other Industrial Metals & Mining   \n",
       "1        1                    Rio Tinto Ltd  Other Industrial Metals & Mining   \n",
       "2       20                      Xstrata PLC  Other Industrial Metals & Mining   \n",
       "3       23            Idemitsu Kosan Co Ltd    Oil & Gas Refining & Marketing   \n",
       "4       28                   Wesfarmers Ltd           Home Improvement Retail   \n",
       "..     ...                              ...                               ...   \n",
       "199    736            The Carlyle Group Inc                  Asset Management   \n",
       "200    741  Advanced Metallurgical Group NV  Other Industrial Metals & Mining   \n",
       "201    748               Tata Chemicals Ltd                         Chemicals   \n",
       "202    751                             None                              None   \n",
       "203  16383                          Company                          Industry   \n",
       "\n",
       "          Stock                                             Holder  \\\n",
       "0       BUE:RIO  {'0': 'Fisher Asset Management, LLC', '1': 'St...   \n",
       "1       ASX:RIO  {'0': 'Fisher Asset Management, LLC', '1': 'St...   \n",
       "2     XSWX:XTAN                                               None   \n",
       "3       FRA:I7B                                               None   \n",
       "4       ASX:WES  {'0': 'Alps Advisors Inc.', '1': 'Invesco Ltd....   \n",
       "..          ...                                                ...   \n",
       "199     FRA:3VU                                               None   \n",
       "200     FRA:ADG                                               None   \n",
       "201  BOM:500770                                               None   \n",
       "202        None                                               None   \n",
       "203       Stock                                             Holder   \n",
       "\n",
       "                                                Shares  \\\n",
       "0    {'0': 12165772, '1': 12132020, '2': 10511419, ...   \n",
       "1    {'0': 12165772, '1': 12132020, '2': 10511419, ...   \n",
       "2                                                 None   \n",
       "3                                                 None   \n",
       "4    {'0': 25376955, '1': 21340971, '2': 13081672, ...   \n",
       "..                                                 ...   \n",
       "199                                               None   \n",
       "200                                               None   \n",
       "201                                               None   \n",
       "202                                               None   \n",
       "203                                             Shares   \n",
       "\n",
       "                                         Date Reported  \\\n",
       "0    {'0': 1609286400000, '1': 1609286400000, '2': ...   \n",
       "1    {'0': 1609286400000, '1': 1609286400000, '2': ...   \n",
       "2                                                 None   \n",
       "3                                                 None   \n",
       "4    {'0': 1609286400000, '1': 1609286400000, '2': ...   \n",
       "..                                                 ...   \n",
       "199                                               None   \n",
       "200                                               None   \n",
       "201                                               None   \n",
       "202                                               None   \n",
       "203                                      Date Reported   \n",
       "\n",
       "                                                 % Out  \\\n",
       "0    {'0': 0.0098, '1': 0.0097, '2': 0.0084, '3': 0...   \n",
       "1    {'0': 0.0098, '1': 0.0097, '2': 0.0084, '3': 0...   \n",
       "2                                                 None   \n",
       "3                                                 None   \n",
       "4    {'0': 0.0614, '1': 0.0517, '2': 0.0317, '3': 0...   \n",
       "..                                                 ...   \n",
       "199                                               None   \n",
       "200                                               None   \n",
       "201                                               None   \n",
       "202                                               None   \n",
       "203                                              % Out   \n",
       "\n",
       "                                                 Value  \n",
       "0    {'0': 915109369, '1': 912570544, '2': 79066893...  \n",
       "1    {'0': 915109369, '1': 912570544, '2': 79066893...  \n",
       "2                                                 None  \n",
       "3                                                 None  \n",
       "4    {'0': 350709518, '1': 294932219, '2': 18078870...  \n",
       "..                                                 ...  \n",
       "199                                               None  \n",
       "200                                               None  \n",
       "201                                               None  \n",
       "202                                               None  \n",
       "203                                              Value  \n",
       "\n",
       "[204 rows x 9 columns]"
      ]
     },
     "execution_count": 212,
     "metadata": {},
     "output_type": "execute_result"
    }
   ],
   "source": [
    "df"
   ]
  },
  {
   "cell_type": "code",
   "execution_count": 220,
   "metadata": {},
   "outputs": [
    {
     "name": "stdout",
     "output_type": "stream",
     "text": [
      "{'0': 'Fisher Asset Management, LLC', '1': 'State Farm Mutual Automobile Insurance Co', '2': 'Franklin Resources, Inc.', '3': 'Arrowstreet Capital, Limited Partnership', '4': 'Goldman Sachs Group, Inc.', '5': 'Dimensional Fund Advisors LP', '6': 'Harding Loevner LLC', '7': 'Capital International Investors', '8': 'Neuberger Berman Group, LLC', '9': 'Earnest Partners LLC'}\n"
     ]
    }
   ],
   "source": [
    "# df['Holder'].to_list()\n",
    "for data in [df['Holder'].to_list()[0]]: \n",
    "    data = data.replace( \"\\'\",\"\\\"\")\n",
    "    data = json.loads(data)\n",
    "    print(data)\n",
    "    \n"
   ]
  },
  {
   "cell_type": "code",
   "execution_count": 221,
   "metadata": {},
   "outputs": [
    {
     "name": "stdout",
     "output_type": "stream",
     "text": [
      "{'0': 12165772, '1': 12132020, '2': 10511419, '3': 6328480, '4': 5303810, '5': 3141974, '6': 2755692, '7': 2686989, '8': 1922463, '9': 1773479}\n"
     ]
    }
   ],
   "source": [
    "# df['Shares'].to_list()\n",
    "for data in [df['Shares'].to_list()[0]]: \n",
    "    data = data.replace( \"\\'\",\"\\\"\")\n",
    "    data = json.loads(data)\n",
    "    print(data)"
   ]
  },
  {
   "cell_type": "code",
   "execution_count": 222,
   "metadata": {},
   "outputs": [
    {
     "name": "stdout",
     "output_type": "stream",
     "text": [
      "{'0': 0.0098, '1': 0.0097, '2': 0.0084, '3': 0.0051, '4': 0.0043, '5': 0.0025, '6': 0.0022, '7': 0.0022, '8': 0.0015, '9': 0.0014}\n"
     ]
    }
   ],
   "source": [
    "# df['% Out'].to_list()\n",
    "for data in [df['% Out'].to_list()[0]]: \n",
    "    data = data.replace( \"\\'\",\"\\\"\")\n",
    "    data = json.loads(data)\n",
    "    print(data)"
   ]
  },
  {
   "cell_type": "code",
   "execution_count": 227,
   "metadata": {},
   "outputs": [
    {
     "name": "stdout",
     "output_type": "stream",
     "text": [
      "{'0': 1609286400000, '1': 1609286400000, '2': 1609286400000, '3': 1609286400000, '4': 1609286400000, '5': 1609286400000, '6': 1609286400000, '7': 1609286400000, '8': 1609286400000, '9': 1609286400000}\n"
     ]
    }
   ],
   "source": [
    "# df['Date Reported'].to_list()\n",
    "for data in [df['Date Reported'].to_list()[0]]: \n",
    "    data = data.replace( \"\\'\",\"\\\"\")\n",
    "    data = json.loads(data)\n",
    "    print(data)"
   ]
  },
  {
   "cell_type": "code",
   "execution_count": 224,
   "metadata": {},
   "outputs": [
    {
     "name": "stdout",
     "output_type": "stream",
     "text": [
      "{'0': 915109369, '1': 912570544, '2': 790668937, '3': 476028265, '4': 398952588, '5': 236339284, '6': 207283152, '7': 202115312, '8': 144607666, '9': 133401090}\n"
     ]
    }
   ],
   "source": [
    "# df['Value'].to_list()\n",
    "for data in [df['Value'].to_list()[0]]: \n",
    "    data = data.replace( \"\\'\",\"\\\"\")\n",
    "    data = json.loads(data)\n",
    "    print(data)"
   ]
  },
  {
   "cell_type": "code",
   "execution_count": 225,
   "metadata": {},
   "outputs": [
    {
     "data": {
      "text/plain": [
       "0      {'0': 'Fisher Asset Management, LLC', '1': 'St...\n",
       "1      {'0': 'Fisher Asset Management, LLC', '1': 'St...\n",
       "2                                                   None\n",
       "3                                                   None\n",
       "4      {'0': 'Alps Advisors Inc.', '1': 'Invesco Ltd....\n",
       "                             ...                        \n",
       "199                                                 None\n",
       "200                                                 None\n",
       "201                                                 None\n",
       "202                                                 None\n",
       "203                                               Holder\n",
       "Name: Holder, Length: 204, dtype: object"
      ]
     },
     "execution_count": 225,
     "metadata": {},
     "output_type": "execute_result"
    }
   ],
   "source": [
    "df['Holder']"
   ]
  },
  {
   "cell_type": "code",
   "execution_count": 195,
   "metadata": {},
   "outputs": [],
   "source": [
    "copy =df.copy"
   ]
  },
  {
   "cell_type": "code",
   "execution_count": 196,
   "metadata": {},
   "outputs": [
    {
     "ename": "TypeError",
     "evalue": "'method' object is not iterable",
     "output_type": "error",
     "traceback": [
      "\u001b[0;31m---------------------------------------------------------------------------\u001b[0m",
      "\u001b[0;31mTypeError\u001b[0m                                 Traceback (most recent call last)",
      "\u001b[0;32m<ipython-input-196-45961481750a>\u001b[0m in \u001b[0;36m<module>\u001b[0;34m\u001b[0m\n\u001b[0;32m----> 1\u001b[0;31m \u001b[0mdict\u001b[0m\u001b[0;34m(\u001b[0m\u001b[0mcopy\u001b[0m\u001b[0;34m)\u001b[0m\u001b[0;34m\u001b[0m\u001b[0;34m\u001b[0m\u001b[0m\n\u001b[0m",
      "\u001b[0;31mTypeError\u001b[0m: 'method' object is not iterable"
     ]
    }
   ],
   "source": [
    "dict(copy)"
   ]
  },
  {
   "cell_type": "code",
   "execution_count": 85,
   "metadata": {},
   "outputs": [],
   "source": [
    "with open('/Users/petebaker/Desktop/flat_data.json','w') as outfile:\n",
    "    json.dump(meat, outfile)"
   ]
  },
  {
   "cell_type": "code",
   "execution_count": 187,
   "metadata": {},
   "outputs": [],
   "source": [
    "result = df.to_json(orient='split')"
   ]
  },
  {
   "cell_type": "code",
   "execution_count": 80,
   "metadata": {},
   "outputs": [],
   "source": [
    "with open('/Users/petebaker/Desktop/ze_data.json', 'w') as outfile:\n",
    "    json.dump(za, outfile)"
   ]
  },
  {
   "cell_type": "code",
   "execution_count": 218,
   "metadata": {},
   "outputs": [
    {
     "ename": "AttributeError",
     "evalue": "'str' object has no attribute 'to_json'",
     "output_type": "error",
     "traceback": [
      "\u001b[0;31m---------------------------------------------------------------------------\u001b[0m",
      "\u001b[0;31mAttributeError\u001b[0m                            Traceback (most recent call last)",
      "\u001b[0;32m<ipython-input-218-4651807eb1d7>\u001b[0m in \u001b[0;36m<module>\u001b[0;34m\u001b[0m\n\u001b[0;32m----> 1\u001b[0;31m \u001b[0md\u001b[0m\u001b[0;34m.\u001b[0m\u001b[0mto_json\u001b[0m\u001b[0;34m(\u001b[0m\u001b[0;34mr'/Users/petebaker/Desktop/comp.json'\u001b[0m\u001b[0;34m)\u001b[0m\u001b[0;34m\u001b[0m\u001b[0;34m\u001b[0m\u001b[0m\n\u001b[0m",
      "\u001b[0;31mAttributeError\u001b[0m: 'str' object has no attribute 'to_json'"
     ]
    }
   ],
   "source": [
    "d.to_json(r'/Users/petebaker/Desktop/comp.json')"
   ]
  },
  {
   "cell_type": "code",
   "execution_count": 267,
   "metadata": {},
   "outputs": [
    {
     "ename": "AttributeError",
     "evalue": "'DataFrame' object has no attribute 'write'",
     "output_type": "error",
     "traceback": [
      "\u001b[0;31m---------------------------------------------------------------------------\u001b[0m",
      "\u001b[0;31mAttributeError\u001b[0m                            Traceback (most recent call last)",
      "\u001b[0;32m<ipython-input-267-a3a67bd2e1da>\u001b[0m in \u001b[0;36m<module>\u001b[0;34m\u001b[0m\n\u001b[0;32m----> 1\u001b[0;31m \u001b[0mjson\u001b[0m\u001b[0;34m.\u001b[0m\u001b[0mdump\u001b[0m\u001b[0;34m(\u001b[0m\u001b[0;34m'/Users/petebaker/Desktop/all_data.json'\u001b[0m\u001b[0;34m,\u001b[0m\u001b[0mdata\u001b[0m\u001b[0;34m)\u001b[0m\u001b[0;34m\u001b[0m\u001b[0;34m\u001b[0m\u001b[0m\n\u001b[0m",
      "\u001b[0;32m~/anaconda3/lib/python3.8/json/__init__.py\u001b[0m in \u001b[0;36mdump\u001b[0;34m(obj, fp, skipkeys, ensure_ascii, check_circular, allow_nan, cls, indent, separators, default, sort_keys, **kw)\u001b[0m\n\u001b[1;32m    178\u001b[0m     \u001b[0;31m# a debuggability cost\u001b[0m\u001b[0;34m\u001b[0m\u001b[0;34m\u001b[0m\u001b[0;34m\u001b[0m\u001b[0m\n\u001b[1;32m    179\u001b[0m     \u001b[0;32mfor\u001b[0m \u001b[0mchunk\u001b[0m \u001b[0;32min\u001b[0m \u001b[0miterable\u001b[0m\u001b[0;34m:\u001b[0m\u001b[0;34m\u001b[0m\u001b[0;34m\u001b[0m\u001b[0m\n\u001b[0;32m--> 180\u001b[0;31m         \u001b[0mfp\u001b[0m\u001b[0;34m.\u001b[0m\u001b[0mwrite\u001b[0m\u001b[0;34m(\u001b[0m\u001b[0mchunk\u001b[0m\u001b[0;34m)\u001b[0m\u001b[0;34m\u001b[0m\u001b[0;34m\u001b[0m\u001b[0m\n\u001b[0m\u001b[1;32m    181\u001b[0m \u001b[0;34m\u001b[0m\u001b[0m\n\u001b[1;32m    182\u001b[0m \u001b[0;34m\u001b[0m\u001b[0m\n",
      "\u001b[0;32m~/anaconda3/lib/python3.8/site-packages/pandas/core/generic.py\u001b[0m in \u001b[0;36m__getattr__\u001b[0;34m(self, name)\u001b[0m\n\u001b[1;32m   5137\u001b[0m             \u001b[0;32mif\u001b[0m \u001b[0mself\u001b[0m\u001b[0;34m.\u001b[0m\u001b[0m_info_axis\u001b[0m\u001b[0;34m.\u001b[0m\u001b[0m_can_hold_identifiers_and_holds_name\u001b[0m\u001b[0;34m(\u001b[0m\u001b[0mname\u001b[0m\u001b[0;34m)\u001b[0m\u001b[0;34m:\u001b[0m\u001b[0;34m\u001b[0m\u001b[0;34m\u001b[0m\u001b[0m\n\u001b[1;32m   5138\u001b[0m                 \u001b[0;32mreturn\u001b[0m \u001b[0mself\u001b[0m\u001b[0;34m[\u001b[0m\u001b[0mname\u001b[0m\u001b[0;34m]\u001b[0m\u001b[0;34m\u001b[0m\u001b[0;34m\u001b[0m\u001b[0m\n\u001b[0;32m-> 5139\u001b[0;31m             \u001b[0;32mreturn\u001b[0m \u001b[0mobject\u001b[0m\u001b[0;34m.\u001b[0m\u001b[0m__getattribute__\u001b[0m\u001b[0;34m(\u001b[0m\u001b[0mself\u001b[0m\u001b[0;34m,\u001b[0m \u001b[0mname\u001b[0m\u001b[0;34m)\u001b[0m\u001b[0;34m\u001b[0m\u001b[0;34m\u001b[0m\u001b[0m\n\u001b[0m\u001b[1;32m   5140\u001b[0m \u001b[0;34m\u001b[0m\u001b[0m\n\u001b[1;32m   5141\u001b[0m     \u001b[0;32mdef\u001b[0m \u001b[0m__setattr__\u001b[0m\u001b[0;34m(\u001b[0m\u001b[0mself\u001b[0m\u001b[0;34m,\u001b[0m \u001b[0mname\u001b[0m\u001b[0;34m:\u001b[0m \u001b[0mstr\u001b[0m\u001b[0;34m,\u001b[0m \u001b[0mvalue\u001b[0m\u001b[0;34m)\u001b[0m \u001b[0;34m->\u001b[0m \u001b[0;32mNone\u001b[0m\u001b[0;34m:\u001b[0m\u001b[0;34m\u001b[0m\u001b[0;34m\u001b[0m\u001b[0m\n",
      "\u001b[0;31mAttributeError\u001b[0m: 'DataFrame' object has no attribute 'write'"
     ]
    }
   ],
   "source": [
    "json.dump('/Users/petebaker/Desktop/all_data.json',data)"
   ]
  },
  {
   "cell_type": "code",
   "execution_count": 50,
   "metadata": {},
   "outputs": [],
   "source": [
    "df =df.to_json(orient='records')"
   ]
  },
  {
   "cell_type": "code",
   "execution_count": 81,
   "metadata": {},
   "outputs": [
    {
     "ename": "TypeError",
     "evalue": "dumps() takes 1 positional argument but 2 were given",
     "output_type": "error",
     "traceback": [
      "\u001b[0;31m---------------------------------------------------------------------------\u001b[0m",
      "\u001b[0;31mTypeError\u001b[0m                                 Traceback (most recent call last)",
      "\u001b[0;32m<ipython-input-81-3feba193127a>\u001b[0m in \u001b[0;36m<module>\u001b[0;34m\u001b[0m\n\u001b[1;32m      1\u001b[0m \u001b[0;32mwith\u001b[0m \u001b[0mopen\u001b[0m\u001b[0;34m(\u001b[0m\u001b[0;34m\"/Users/petebaker/Desktop/za_data.json\"\u001b[0m\u001b[0;34m,\u001b[0m \u001b[0;34m\"w\"\u001b[0m\u001b[0;34m)\u001b[0m \u001b[0;32mas\u001b[0m \u001b[0mwrite_file\u001b[0m\u001b[0;34m:\u001b[0m\u001b[0;34m\u001b[0m\u001b[0;34m\u001b[0m\u001b[0m\n\u001b[0;32m----> 2\u001b[0;31m     \u001b[0mjson\u001b[0m\u001b[0;34m.\u001b[0m\u001b[0mdumps\u001b[0m\u001b[0;34m(\u001b[0m\u001b[0mdf\u001b[0m\u001b[0;34m,\u001b[0m \u001b[0mwrite_file\u001b[0m\u001b[0;34m)\u001b[0m\u001b[0;34m\u001b[0m\u001b[0;34m\u001b[0m\u001b[0m\n\u001b[0m",
      "\u001b[0;31mTypeError\u001b[0m: dumps() takes 1 positional argument but 2 were given"
     ]
    }
   ],
   "source": [
    "with open(\"/Users/petebaker/Desktop/za_data.json\", \"w\") as write_file:\n",
    "    json.dumps(df) "
   ]
  },
  {
   "cell_type": "code",
   "execution_count": 84,
   "metadata": {},
   "outputs": [
    {
     "data": {
      "text/plain": [
       "str"
      ]
     },
     "execution_count": 84,
     "metadata": {},
     "output_type": "execute_result"
    }
   ],
   "source": [
    "type(za)"
   ]
  },
  {
   "cell_type": "code",
   "execution_count": null,
   "metadata": {},
   "outputs": [],
   "source": []
  }
 ],
 "metadata": {
  "kernelspec": {
   "display_name": "Python 3",
   "language": "python",
   "name": "python3"
  },
  "language_info": {
   "codemirror_mode": {
    "name": "ipython",
    "version": 3
   },
   "file_extension": ".py",
   "mimetype": "text/x-python",
   "name": "python",
   "nbconvert_exporter": "python",
   "pygments_lexer": "ipython3",
   "version": "3.8.5"
  }
 },
 "nbformat": 4,
 "nbformat_minor": 4
}
